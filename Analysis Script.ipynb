{
 "cells": [
  {
   "cell_type": "code",
   "execution_count": 1,
   "id": "f3cf19ad",
   "metadata": {},
   "outputs": [],
   "source": [
    "# Libraries\n",
    "\n",
    "import pandas as pd\n",
    "import matplotlib.pyplot as plt\n",
    "import numpy as np"
   ]
  },
  {
   "cell_type": "code",
   "execution_count": null,
   "id": "572bc161",
   "metadata": {},
   "outputs": [],
   "source": [
    "# Settings \n",
    "\n",
    "year = 2021"
   ]
  },
  {
   "cell_type": "code",
   "execution_count": 2,
   "id": "85f74308",
   "metadata": {},
   "outputs": [
    {
     "ename": "NameError",
     "evalue": "name 'year' is not defined",
     "output_type": "error",
     "traceback": [
      "\u001b[1;31m---------------------------------------------------------------------------\u001b[0m",
      "\u001b[1;31mNameError\u001b[0m                                 Traceback (most recent call last)",
      "Input \u001b[1;32mIn [2]\u001b[0m, in \u001b[0;36m<cell line: 3>\u001b[1;34m()\u001b[0m\n\u001b[0;32m      1\u001b[0m \u001b[38;5;66;03m# Datas\u001b[39;00m\n\u001b[1;32m----> 3\u001b[0m gdp_in_year \u001b[38;5;241m=\u001b[39m \u001b[38;5;124m\"\u001b[39m\u001b[38;5;124mGDP \u001b[39m\u001b[38;5;124m\"\u001b[39m \u001b[38;5;241m+\u001b[39m \u001b[38;5;28mstr\u001b[39m(\u001b[43myear\u001b[49m)\n\u001b[0;32m      4\u001b[0m gdp_per_area \u001b[38;5;241m=\u001b[39m pd\u001b[38;5;241m.\u001b[39mread_excel(\u001b[38;5;124m\"\u001b[39m\u001b[38;5;124mDati/Pil e popolazione.xlsx\u001b[39m\u001b[38;5;124m\"\u001b[39m)\n\u001b[0;32m      5\u001b[0m gdp_per_region \u001b[38;5;241m=\u001b[39m pd\u001b[38;5;241m.\u001b[39mread_excel(\u001b[38;5;124m\"\u001b[39m\u001b[38;5;124mDati/Pil Per regione.xlsx\u001b[39m\u001b[38;5;124m\"\u001b[39m)\n",
      "\u001b[1;31mNameError\u001b[0m: name 'year' is not defined"
     ]
    }
   ],
   "source": [
    "# Datas\n",
    "\n",
    "gdp_in_year = \"GDP \" + str(year)\n",
    "gdp_per_area = pd.read_excel(\"GDP And Population.xlsx\")\n",
    "gdp_per_region = pd.read_excel(\"GDP For Region.xlsx\")"
   ]
  },
  {
   "cell_type": "code",
   "execution_count": 3,
   "id": "123f08a8",
   "metadata": {},
   "outputs": [
    {
     "ename": "NameError",
     "evalue": "name 'gdp_per_area' is not defined",
     "output_type": "error",
     "traceback": [
      "\u001b[1;31m---------------------------------------------------------------------------\u001b[0m",
      "\u001b[1;31mNameError\u001b[0m                                 Traceback (most recent call last)",
      "Input \u001b[1;32mIn [3]\u001b[0m, in \u001b[0;36m<cell line: 3>\u001b[1;34m()\u001b[0m\n\u001b[0;32m      1\u001b[0m \u001b[38;5;66;03m# Data Cleaning\u001b[39;00m\n\u001b[1;32m----> 3\u001b[0m gdp_per_area \u001b[38;5;241m=\u001b[39m \u001b[43mgdp_per_area\u001b[49m\u001b[38;5;241m.\u001b[39mastype(\u001b[38;5;124m'\u001b[39m\u001b[38;5;124mstring\u001b[39m\u001b[38;5;124m'\u001b[39m)\n\u001b[0;32m      4\u001b[0m gdp_per_area[\u001b[38;5;124m'\u001b[39m\u001b[38;5;124mGDP 2019\u001b[39m\u001b[38;5;124m'\u001b[39m] \u001b[38;5;241m=\u001b[39m \u001b[38;5;28mlist\u001b[39m(gdp_per_area[\u001b[38;5;124m'\u001b[39m\u001b[38;5;124mGDP 2019\u001b[39m\u001b[38;5;124m'\u001b[39m]\u001b[38;5;241m.\u001b[39mastype(\u001b[38;5;28mfloat\u001b[39m))\n\u001b[0;32m      5\u001b[0m gdp_per_area[\u001b[38;5;124m'\u001b[39m\u001b[38;5;124mGDP 2020\u001b[39m\u001b[38;5;124m'\u001b[39m] \u001b[38;5;241m=\u001b[39m \u001b[38;5;28mlist\u001b[39m(gdp_per_area[\u001b[38;5;124m'\u001b[39m\u001b[38;5;124mGDP 2020\u001b[39m\u001b[38;5;124m'\u001b[39m]\u001b[38;5;241m.\u001b[39mastype(\u001b[38;5;28mfloat\u001b[39m))\n",
      "\u001b[1;31mNameError\u001b[0m: name 'gdp_per_area' is not defined"
     ]
    }
   ],
   "source": [
    "# Data Cleaning\n",
    "\n",
    "gdp_per_area = gdp_per_area.astype('string')\n",
    "gdp_per_area['GDP 2019'] = list(gdp_per_area['GDP 2019'].astype(float))\n",
    "gdp_per_area['GDP 2020'] = list(gdp_per_area['GDP 2020'].astype(float))\n",
    "gdp_per_area['GDP 2021'] = list(gdp_per_area['GDP 2021'].astype(float))\n",
    "gdp_per_area['POPULATION'] = list(gdp_per_area['POPULATION'].astype(int))\n",
    "gdp_per_region = gdp_per_region.astype('string')\n",
    "gdp_per_region['GDP 2019'] = list(gdp_per_region['GDP 2019'].astype(float))\n",
    "gdp_per_region['GDP 2020'] = list(gdp_per_region['GDP 2020'].astype(float))\n",
    "gdp_per_region['GDP 2021'] = list(gdp_per_region['GDP 2021'].astype(float))\n",
    "gdp_per_region['POPULATION'] = list(gdp_per_region['POPULATION'].astype(int))\n",
    "\n",
    "# Arrays\n",
    "\n",
    "GDP_per_capita = []\n",
    "north_italy_regions = []\n",
    "north_italy_gdp = []\n",
    "north_italy_pc_gdp = []\n",
    "north_italy_population = []\n",
    "central_italy_regions = []\n",
    "central_italy_gdp = []\n",
    "central_italy_pc_gdp = []\n",
    "central_italy_population= []\n",
    "south_italy_regions = []\n",
    "south_italy_gdp = []\n",
    "south_italy_pc_gdp = []\n",
    "south_italy_population = []\n",
    "\n",
    "for i in range(len(gdp_per_region)):\n",
    "    GDP_per_capita.append(round(gdp_per_region[gdp_in_year][i] * 1000000 / gdp_per_region['POPULATION'][i],2))\n",
    "\n",
    "gdp_per_region.insert(5,'GDP PER CAPITA',GDP_per_capita)\n"
   ]
  },
  {
   "cell_type": "code",
   "execution_count": 4,
   "id": "8de612c7",
   "metadata": {},
   "outputs": [
    {
     "ename": "NameError",
     "evalue": "name 'gdp_per_region' is not defined",
     "output_type": "error",
     "traceback": [
      "\u001b[1;31m---------------------------------------------------------------------------\u001b[0m",
      "\u001b[1;31mNameError\u001b[0m                                 Traceback (most recent call last)",
      "Input \u001b[1;32mIn [4]\u001b[0m, in \u001b[0;36m<cell line: 7>\u001b[1;34m()\u001b[0m\n\u001b[0;32m      4\u001b[0m north_regions \u001b[38;5;241m=\u001b[39m [\u001b[38;5;124m'\u001b[39m\u001b[38;5;124mLombardia\u001b[39m\u001b[38;5;124m'\u001b[39m, \u001b[38;5;124m'\u001b[39m\u001b[38;5;124mPiemonte\u001b[39m\u001b[38;5;124m'\u001b[39m, \u001b[38;5;124m'\u001b[39m\u001b[38;5;124mLiguria\u001b[39m\u001b[38;5;124m'\u001b[39m, \u001b[38;5;124m\"\u001b[39m\u001b[38;5;124mValle d\u001b[39m\u001b[38;5;124m'\u001b[39m\u001b[38;5;124mAosta\u001b[39m\u001b[38;5;124m\"\u001b[39m, \u001b[38;5;124m\"\u001b[39m\u001b[38;5;124mTrentino Alto Adige\u001b[39m\u001b[38;5;124m\"\u001b[39m, \u001b[38;5;124m\"\u001b[39m\u001b[38;5;124mVeneto\u001b[39m\u001b[38;5;124m\"\u001b[39m, \u001b[38;5;124m\"\u001b[39m\u001b[38;5;124mFriuli Venezia Giulia\u001b[39m\u001b[38;5;124m\"\u001b[39m, \u001b[38;5;124m\"\u001b[39m\u001b[38;5;124mEmilia Romagna\u001b[39m\u001b[38;5;124m\"\u001b[39m]\n\u001b[0;32m      5\u001b[0m centre_regions \u001b[38;5;241m=\u001b[39m [\u001b[38;5;124m'\u001b[39m\u001b[38;5;124mToscana\u001b[39m\u001b[38;5;124m'\u001b[39m, \u001b[38;5;124m'\u001b[39m\u001b[38;5;124mUmbria\u001b[39m\u001b[38;5;124m'\u001b[39m, \u001b[38;5;124m'\u001b[39m\u001b[38;5;124mMarche\u001b[39m\u001b[38;5;124m'\u001b[39m, \u001b[38;5;124m'\u001b[39m\u001b[38;5;124mLazio\u001b[39m\u001b[38;5;124m'\u001b[39m]\n\u001b[1;32m----> 7\u001b[0m \u001b[38;5;28;01mfor\u001b[39;00m i \u001b[38;5;129;01min\u001b[39;00m \u001b[38;5;28mrange\u001b[39m(\u001b[38;5;28mlen\u001b[39m(\u001b[43mgdp_per_region\u001b[49m)):\n\u001b[0;32m      9\u001b[0m     \u001b[38;5;28;01mif\u001b[39;00m gdp_per_region[\u001b[38;5;124m'\u001b[39m\u001b[38;5;124mRegion\u001b[39m\u001b[38;5;124m'\u001b[39m][i] \u001b[38;5;129;01min\u001b[39;00m north_regions:\n\u001b[0;32m     11\u001b[0m         north_italy_regions\u001b[38;5;241m.\u001b[39mappend(gdp_per_region[\u001b[38;5;124m'\u001b[39m\u001b[38;5;124mRegion\u001b[39m\u001b[38;5;124m'\u001b[39m][i])\n",
      "\u001b[1;31mNameError\u001b[0m: name 'gdp_per_region' is not defined"
     ]
    }
   ],
   "source": [
    "# DataFrame Split\n",
    "\n",
    "south_regions = [\"Calabria\", \"Sicilia\", \"Campania\", \"Puglia\", \"Abbruzzo\", \"Molise\", \"Basilicata\", \"Sicilia\"]\n",
    "north_regions = ['Lombardia', 'Piemonte', 'Liguria', \"Valle d'Aosta\", \"Trentino Alto Adige\", \"Veneto\", \"Friuli Venezia Giulia\", \"Emilia Romagna\"]\n",
    "centre_regions = ['Toscana', 'Umbria', 'Marche', 'Lazio']\n",
    "\n",
    "for i in range(len(gdp_per_region)):\n",
    "\n",
    "    if gdp_per_region['Region'][i] in north_regions:\n",
    "\n",
    "        north_italy_regions.append(gdp_per_region['Region'][i])\n",
    "        north_italy_gdp.append(gdp_per_region[gdp_in_year][i])\n",
    "        north_italy_pc_gdp.append(gdp_per_region[\"GDP PER CAPITA\"][i])\n",
    "        north_italy_population.append(gdp_per_region[\"POPULATION\"][i])\n",
    "\n",
    "    elif gdp_per_region['Region'][i] in centre_regions:\n",
    "        central_italy_regions.append(gdp_per_region['Region'][i])\n",
    "        central_italy_gdp.append(gdp_per_region[gdp_in_year][i])\n",
    "        central_italy_pc_gdp.append(gdp_per_region[\"GDP PER CAPITA\"][i])\n",
    "        central_italy_population.append(gdp_per_region[\"POPULATION\"][i])\n",
    "\n",
    "    elif gdp_per_region['Region'][i] in south_regions:\n",
    "        south_italy_regions.append(gdp_per_region['Region'][i])\n",
    "        south_italy_gdp.append(gdp_per_region[gdp_in_year][i])\n",
    "        south_italy_pc_gdp.append(gdp_per_region[\"GDP PER CAPITA\"][i])\n",
    "        south_italy_population.append(gdp_per_region[\"POPULATION\"][i])\n",
    "\n",
    "list_tuples = list(zip(north_italy_regions,north_italy_gdp,north_italy_pc_gdp, north_italy_population))\n",
    "df_nord = pd.DataFrame(list_tuples, columns=['REGION', gdp_in_year, 'GDP PER CAPITA', 'POPULATION'])\n",
    "list_tuples = list(zip(central_italy_regions,central_italy_gdp,central_italy_pc_gdp,central_italy_population))\n",
    "df_centro = pd.DataFrame(list_tuples, columns=['REGION', gdp_in_year, 'GDP PER CAPITA', 'POPULATION'])\n",
    "list_tuples = list(zip(south_italy_regions,south_italy_gdp,south_italy_pc_gdp,south_italy_population))\n",
    "df_sud = pd.DataFrame(list_tuples, columns=['REGION', gdp_in_year, 'GDP PER CAPITA', 'POPULATION'])"
   ]
  },
  {
   "cell_type": "code",
   "execution_count": 5,
   "id": "ac729a10",
   "metadata": {},
   "outputs": [
    {
     "ename": "NameError",
     "evalue": "name 'df_sud' is not defined",
     "output_type": "error",
     "traceback": [
      "\u001b[1;31m---------------------------------------------------------------------------\u001b[0m",
      "\u001b[1;31mNameError\u001b[0m                                 Traceback (most recent call last)",
      "Input \u001b[1;32mIn [5]\u001b[0m, in \u001b[0;36m<cell line: 5>\u001b[1;34m()\u001b[0m\n\u001b[0;32m      1\u001b[0m \u001b[38;5;66;03m# Plot 1\u001b[39;00m\n\u001b[0;32m      3\u001b[0m plt\u001b[38;5;241m.\u001b[39mstyle\u001b[38;5;241m.\u001b[39muse(\u001b[38;5;124m'\u001b[39m\u001b[38;5;124mfivethirtyeight\u001b[39m\u001b[38;5;124m'\u001b[39m)\n\u001b[1;32m----> 5\u001b[0m color_bar_index \u001b[38;5;241m=\u001b[39m np\u001b[38;5;241m.\u001b[39mconcatenate([\u001b[43mdf_sud\u001b[49m[\u001b[38;5;124m'\u001b[39m\u001b[38;5;124mGDP PER CAPITA\u001b[39m\u001b[38;5;124m'\u001b[39m], df_centro[\u001b[38;5;124m'\u001b[39m\u001b[38;5;124mGDP PER CAPITA\u001b[39m\u001b[38;5;124m'\u001b[39m], df_nord[\u001b[38;5;124m'\u001b[39m\u001b[38;5;124mGDP PER CAPITA\u001b[39m\u001b[38;5;124m'\u001b[39m]], axis\u001b[38;5;241m=\u001b[39m\u001b[38;5;241m0\u001b[39m)\n\u001b[0;32m      6\u001b[0m \u001b[38;5;28mmin\u001b[39m \u001b[38;5;241m=\u001b[39m color_bar_index\u001b[38;5;241m.\u001b[39mmin()\n\u001b[0;32m      7\u001b[0m \u001b[38;5;28mmax\u001b[39m \u001b[38;5;241m=\u001b[39m color_bar_index\u001b[38;5;241m.\u001b[39mmax()\n",
      "\u001b[1;31mNameError\u001b[0m: name 'df_sud' is not defined"
     ]
    }
   ],
   "source": [
    "# Plot 1\n",
    "\n",
    "plt.style.use('fivethirtyeight')\n",
    "\n",
    "color_bar_index = np.concatenate([df_sud['GDP PER CAPITA'], df_centro['GDP PER CAPITA'], df_nord['GDP PER CAPITA']], axis=0)\n",
    "min = color_bar_index.min()\n",
    "max = color_bar_index.max()\n",
    "plt.figure(figsize=(10,6))\n",
    "\n",
    "plt.scatter(df_nord[gdp_in_year],df_nord['POPULATION'], edgecolor='#072792', s=200,linewidth=2,label='North Italy',c=df_nord['GDP PER CAPITA'])\n",
    "plt.clim(min, max)\n",
    "plt.scatter(df_sud[gdp_in_year],df_sud['POPULATION'], edgecolor=\"#f40b23\", linewidth=2, s=200, label='South Italy',c=df_sud['GDP PER CAPITA'])\n",
    "plt.clim(min, max)\n",
    "plt.scatter(df_centro[gdp_in_year],df_centro['POPULATION'], edgecolor='#339207', s=200, linewidth=2,label='Central Italy',c=df_centro['GDP PER CAPITA'])\n",
    "plt.clim(min, max)\n",
    "\n",
    "cbar = plt.colorbar()\n",
    "cbar.set_label(\"GDP PER CAPITA\")\n",
    "\n",
    "legend = plt.legend()\n",
    "for text in legend.get_texts():\n",
    "    text.set_color('Black')\n",
    "\n",
    "plt.grid(alpha=0.20)\n",
    "plt.xlabel('GDP')\n",
    "plt.ylabel('POPULATION')\n",
    "plt.show()"
   ]
  },
  {
   "cell_type": "code",
   "execution_count": 6,
   "id": "4f66d7fe",
   "metadata": {},
   "outputs": [
    {
     "ename": "NameError",
     "evalue": "name 'gdp_per_region' is not defined",
     "output_type": "error",
     "traceback": [
      "\u001b[1;31m---------------------------------------------------------------------------\u001b[0m",
      "\u001b[1;31mNameError\u001b[0m                                 Traceback (most recent call last)",
      "Input \u001b[1;32mIn [6]\u001b[0m, in \u001b[0;36m<cell line: 3>\u001b[1;34m()\u001b[0m\n\u001b[0;32m      1\u001b[0m \u001b[38;5;66;03m# Plot 2\u001b[39;00m\n\u001b[1;32m----> 3\u001b[0m GDP_for_region_sorted \u001b[38;5;241m=\u001b[39m \u001b[43mgdp_per_region\u001b[49m\u001b[38;5;241m.\u001b[39msort_values(\u001b[38;5;124m'\u001b[39m\u001b[38;5;124mGDP PER CAPITA\u001b[39m\u001b[38;5;124m'\u001b[39m)\n\u001b[0;32m      5\u001b[0m plt\u001b[38;5;241m.\u001b[39mfigure(figsize\u001b[38;5;241m=\u001b[39m(\u001b[38;5;241m15\u001b[39m,\u001b[38;5;241m10\u001b[39m))\n\u001b[0;32m      6\u001b[0m plt\u001b[38;5;241m.\u001b[39mgrid(alpha\u001b[38;5;241m=\u001b[39m\u001b[38;5;241m0.30\u001b[39m)\n",
      "\u001b[1;31mNameError\u001b[0m: name 'gdp_per_region' is not defined"
     ]
    }
   ],
   "source": [
    "# SH Index\n",
    "\n",
    "new_dataframe = pd.read_excel(\"Other Countries Dataset.xlsx\")\n",
    "\n",
    "sh_sum = pd.Series(new_dataframe[\"GDP PP\"])\n",
    "SH_INDEX = round(sh_sum.mean(),2)\n",
    "\n",
    "# Plot 2\n",
    "\n",
    "GDP_for_region_sorted = gdp_per_region.sort_values('GDP PER CAPITA')\n",
    "\n",
    "plt.figure(figsize=(15,10))\n",
    "plt.grid(alpha=0.30)\n",
    "plt.xlabel('POPULATION')\n",
    "plt.ylabel('GDP PER CAPITA')\n",
    "plt.plot(GDP_for_region_sorted['Region'], GDP_for_region_sorted['GDP PER CAPITA'], label='Italian Regions')\n",
    "plt.xticks(rotation=45, ha='right')\n",
    "plt.fill_between(GDP_for_region_sorted['Region'], GDP_for_region_sorted['GDP PER CAPITA'],SH_INDEX,alpha=0.3, \n",
    "where=GDP_for_region_sorted['GDP PER CAPITA'] < SH_INDEX, color = \"Red\", label=\"SH Index\")\n",
    "plt.legend()\n",
    "\n",
    "legend = plt.legend()\n",
    "for text in legend.get_texts():\n",
    "    text.set_color('Black')\n",
    "\n",
    "plt.show()"
   ]
  },
  {
   "cell_type": "code",
   "execution_count": null,
   "id": "caf14666",
   "metadata": {},
   "outputs": [],
   "source": [
    "# Plot 3\n",
    "\n",
    "fig, ax = plt.subplots(nrows=2, ncols=1)\n",
    "\n",
    "datas_to_plot = [gdp_per_area[gdp_in_year], gdp_per_area['POPULATION']]\n",
    "\n",
    "plt.figure(figsize=(20,10))\n",
    "\n",
    "ax = plt.subplot2grid((1,2),(0,0))\n",
    "plt.pie(datas_to_plot[0][1:4], labels=['North Italy', 'Central Italy', 'South Italy'])\n",
    "title = str(gdp_in_year)\n",
    "ax.set_title(title)\n",
    "\n",
    "ax = plt.subplot2grid((1,2), (0, 1))\n",
    "plt.pie(datas_to_plot[1][1:4], labels=['North Italy', 'Central Italy', 'South Italy'])\n",
    "ax.set_title('POPULATION')\n",
    "\n",
    "plt.show()"
   ]
  }
 ],
 "metadata": {
  "kernelspec": {
   "display_name": "Python 3 (ipykernel)",
   "language": "python",
   "name": "python3"
  },
  "language_info": {
   "codemirror_mode": {
    "name": "ipython",
    "version": 3
   },
   "file_extension": ".py",
   "mimetype": "text/x-python",
   "name": "python",
   "nbconvert_exporter": "python",
   "pygments_lexer": "ipython3",
   "version": "3.9.12"
  }
 },
 "nbformat": 4,
 "nbformat_minor": 5
}
